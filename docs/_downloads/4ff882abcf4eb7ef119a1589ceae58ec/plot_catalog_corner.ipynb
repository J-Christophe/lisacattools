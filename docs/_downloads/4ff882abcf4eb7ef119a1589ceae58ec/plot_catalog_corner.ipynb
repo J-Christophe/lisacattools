{
  "cells": [
    {
      "cell_type": "code",
      "execution_count": null,
      "metadata": {
        "collapsed": false
      },
      "outputs": [],
      "source": [
        "%matplotlib inline"
      ]
    },
    {
      "cell_type": "markdown",
      "metadata": {},
      "source": [
        "\n# Full catalog corner plots\n\nCorner plot of select parameters for the full catalog.\n"
      ]
    },
    {
      "cell_type": "code",
      "execution_count": null,
      "metadata": {
        "collapsed": false
      },
      "outputs": [],
      "source": [
        "import glob\nimport numpy as np\nimport pandas as pd\nimport corner\nimport seaborn as sns\nimport matplotlib.pyplot as plt\nimport lisacattools.lisacattools as lisacat\nfrom chainconsumer import ChainConsumer"
      ]
    },
    {
      "cell_type": "markdown",
      "metadata": {},
      "source": [
        "Load the catalog files\n\n"
      ]
    },
    {
      "cell_type": "code",
      "execution_count": null,
      "metadata": {
        "collapsed": false
      },
      "outputs": [],
      "source": [
        "# Find the list of catalogs\ncatFiles = glob.glob('MBH_wk*C.h5')\n\n# Read individual DataFrames' metadata by specifying the key parameter\ndfs = list()\nfor catFile in catFiles:\n    df = pd.read_hdf(catFile, key = 'metadata')\n    df['location'] = catFile\n    dfs.append(df) \nmeta = pd.concat(dfs)\n\n# sort metadata by observation week, putting most recent catalog last in the list\nmeta = meta.sort_values(by='observation week')\n\n# load the detections \ncatIdx = len(meta)-1\ncatName = meta.index[catIdx]\ncatFile = meta.iloc[catIdx]['location']\ncat = pd.read_hdf(catFile, key='detections')"
      ]
    },
    {
      "cell_type": "markdown",
      "metadata": {},
      "source": [
        "Create the corner plot with ChainConsumer\n\n"
      ]
    },
    {
      "cell_type": "code",
      "execution_count": null,
      "metadata": {
        "collapsed": false
      },
      "outputs": [],
      "source": [
        "c = ChainConsumer()\n\n# selected parameters to plot\nparameters = ['Mass 1','Mass 2', 'Luminosity Distance']\n\n# how parameter names should be formatted in figure\nparameter_symbols = [r'$m_1\\ [{\\rm M}_\\odot]$',\n                     r'$m_2\\ [{\\rm M}_\\odot]$',\n                     r'$D_L\\ [{\\rm Gpc}]$', \n                    ]\n\nsources = list(cat.index)\nfor source in sources:\n\n    # get chain samples\n    samples = lisacat.getChain(cat,source)\n    \n    # get dataframe into numpy array\n    df = samples[parameters].values\n    \n    # add samples to chainconsumer\n    c.add_chain(df,parameters=parameter_symbols,name=source)\n    \n#plot!\nc.configure(plot_hists=False)\nfig = c.plotter.plot(figsize=1.5,log_scales=True)"
      ]
    }
  ],
  "metadata": {
    "kernelspec": {
      "display_name": "Python 3",
      "language": "python",
      "name": "python3"
    },
    "language_info": {
      "codemirror_mode": {
        "name": "ipython",
        "version": 3
      },
      "file_extension": ".py",
      "mimetype": "text/x-python",
      "name": "python",
      "nbconvert_exporter": "python",
      "pygments_lexer": "ipython3",
      "version": "3.7.5"
    }
  },
  "nbformat": 4,
  "nbformat_minor": 0
}