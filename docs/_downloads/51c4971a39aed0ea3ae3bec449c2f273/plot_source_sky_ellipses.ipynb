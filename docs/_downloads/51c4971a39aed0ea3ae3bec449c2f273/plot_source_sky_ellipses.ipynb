{
  "cells": [
    {
      "cell_type": "code",
      "execution_count": null,
      "metadata": {
        "collapsed": false
      },
      "outputs": [],
      "source": [
        "%matplotlib inline"
      ]
    },
    {
      "cell_type": "markdown",
      "metadata": {},
      "source": [
        "\n# Sky Localization Ellipses\n\nPlot 1-sigma contours of well-localized sources' sky location in galactic coordinates.\n"
      ]
    },
    {
      "cell_type": "markdown",
      "metadata": {},
      "source": [
        "Load catalog and compute sky areas\n\n"
      ]
    },
    {
      "cell_type": "code",
      "execution_count": null,
      "metadata": {
        "collapsed": false
      },
      "outputs": [],
      "source": [
        "import os\nimport pandas as pd\nimport numpy as np    \nimport matplotlib.pyplot as plt\nfrom matplotlib.patches import Ellipse\nimport matplotlib.colors as colors\nimport matplotlib.cm as cm\nimport lisacattools.lisacattools as lisacat\n\n# Start by loading the main catalog file processed from GBMCMC outputs\ncatFile = 'cat15728640_v2/cat15728640_v2.h5'\ncatPath = os.path.split(catFile)[0]\ncat = pd.read_hdf(catFile, key='detections')\n\n# loop through all of the sources, compute sky area, and add as a column to the catalog \narea = np.empty(len(cat))\n\nsources = list(cat.index)\nfor idx,source in enumerate(sources):\n    \n    # load source chain\n    df = lisacat.getChain(cat,source,catPath) \n    \n    # convert from ecliptic to galactic coordinates\n    lisacat.getGalcoord(df) \n    \n    # create numpy arrays of the derived parameters\n    area[idx] = lisacat.ellipse_area(df[['Galactic Longitude','Galactic Latitude']])\n\n# insert new numpy arrays into main catalog dataframe\ncat.insert(len(cat.columns),'Sky Area',area,True)\n\n# show that, indeed, Sky Area is now a column in the dataframe\ncat[['SNR','Frequency','Sky Area']].head()"
      ]
    },
    {
      "cell_type": "markdown",
      "metadata": {},
      "source": [
        "Cut source catalog on localization, and plot skymap of selected sources. \nIn this example we use 100 sq deg as the localization threshold. \n*NOTE:* 10 sq deg is more appropriate for EM follow-up, but makes for a \nless interesting figure\n\n"
      ]
    },
    {
      "cell_type": "code",
      "execution_count": null,
      "metadata": {
        "collapsed": false
      },
      "outputs": [],
      "source": [
        "# Make new dataframe containing only \"well-localized\" events\nmax_sky_area = 100 #localization threshold (square degrees)\ncat_loc = cat[(cat['Sky Area']<max_sky_area)] #cut sources based on max_sky_area\n\n# set up the figure\nfig = plt.figure(figsize=(12, 6), dpi = 100)\nax = plt.axes()\n\nax.grid()\nax.set(xlim=(-180,180), ylim=(-90,90), xlabel='Galactic Longitude', ylabel='Galactic Latitude')\n\n# color ellipses by log frequency\ncNorm = colors.LogNorm(vmin=cat_loc['Frequency'].min(), vmax=cat_loc['Frequency'].max()) \nscalarMap = cm.ScalarMappable(norm=cNorm, cmap=plt.cm.get_cmap('viridis_r'))\ncbar = fig.colorbar(scalarMap)\ncbar.set_label('Frequency [Hz]')\n\n# loop over all sources adding ellipse to plot\nsources = list(cat_loc.index)\nfor source in sources:\n    \n    #get chain samples\n    samples = lisacat.getChain(cat_loc,source,catPath)\n    \n    #convert from ecliptic to galactic coordinates\n    lisacat.getGalcoord(samples)\n    \n    #get centroid and 1-sigma contours in galactic coordinates, add to plot\n    m = np.array(samples[['Galactic Longitude','Galactic Latitude']].mean())\n    lisacat.confidence_ellipse(samples[['Galactic Longitude','Galactic Latitude']], \n                       ax, \n                       n_std = 1.0, \n                       edgecolor=scalarMap.to_rgba(np.array(cat_loc.loc[source].Frequency)),\n                       linewidth = 1.0)\n                       \nplt.show()"
      ]
    }
  ],
  "metadata": {
    "kernelspec": {
      "display_name": "Python 3",
      "language": "python",
      "name": "python3"
    },
    "language_info": {
      "codemirror_mode": {
        "name": "ipython",
        "version": 3
      },
      "file_extension": ".py",
      "mimetype": "text/x-python",
      "name": "python",
      "nbconvert_exporter": "python",
      "pygments_lexer": "ipython3",
      "version": "3.7.5"
    }
  },
  "nbformat": 4,
  "nbformat_minor": 0
}