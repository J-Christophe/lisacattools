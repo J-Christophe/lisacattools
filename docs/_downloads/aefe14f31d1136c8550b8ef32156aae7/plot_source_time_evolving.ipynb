{
  "cells": [
    {
      "cell_type": "code",
      "execution_count": null,
      "metadata": {
        "collapsed": false
      },
      "outputs": [],
      "source": [
        "%matplotlib inline"
      ]
    },
    {
      "cell_type": "markdown",
      "metadata": {},
      "source": [
        "\n# Time-evolving parameter estimation\n\nCorner plot of select parameters for a single source showing how \nparameter estimation changes with observing time.\n"
      ]
    },
    {
      "cell_type": "code",
      "execution_count": null,
      "metadata": {
        "collapsed": false
      },
      "outputs": [],
      "source": [
        "import glob\nimport numpy as np\nimport pandas as pd\nimport matplotlib.pyplot as plt\nimport lisacattools.lisacattools as lisacat\nfrom chainconsumer import ChainConsumer\n\n\n# Find the list of catalogs\ncatFiles = glob.glob('MBH_wk*C.h5')\n\n# Read individual DataFrames' metadata by specifying the key parameter\ndfs = list()\nfor catFile in catFiles:\n    df = pd.read_hdf(catFile, key = 'metadata')\n    df['location'] = catFile\n    dfs.append(df) \nmeta = pd.concat(dfs)\n\n# sort metadata by observation week, putting most recent catalog last in the list\nmeta = meta.sort_values(by='observation week')\n\n# load and display the detections, sorted by primary mass \ncatIdx = len(meta)-1\ncatName = meta.index[catIdx]\ncatFile = meta.iloc[catIdx]['location']\ncat = pd.read_hdf(catFile, key='detections')\ncat = cat.sort_values(by='Mass 1')\ncat[['Parent','Log Likelihood','Mass 1', 'Mass 2', 'Luminosity Distance']]"
      ]
    },
    {
      "cell_type": "markdown",
      "metadata": {},
      "source": [
        "Choose a source from the list of detections and get its history through the different catalogs\n\n"
      ]
    },
    {
      "cell_type": "code",
      "execution_count": null,
      "metadata": {
        "collapsed": false
      },
      "outputs": [],
      "source": [
        "# Pick a source, any source\nsourceIdx = 'MBH005546845'\n\n# Get source history and display table with parameters and observing weeks containing source\nsrcHist = lisacat.getLineage(meta,catName,sourceIdx)\nsrcHist.drop_duplicates(subset='Log Likelihood',keep='last',inplace=True)\nsrcHist.sort_values(by='Observation Week',ascending=True,inplace=True)\nsrcHist[['Observation Week','Parent','Log Likelihood','Mass 1', 'Mass 2', 'Luminosity Distance']]"
      ]
    },
    {
      "cell_type": "markdown",
      "metadata": {},
      "source": [
        "Load chains for different observing epochs of selected source\n\n"
      ]
    },
    {
      "cell_type": "code",
      "execution_count": null,
      "metadata": {
        "collapsed": false
      },
      "outputs": [],
      "source": [
        "epochs = list(srcHist.index)\ndfs = list()\nfor epoch in epochs:\n    df = lisacat.getChain(srcHist,epoch)\n    df.insert(len(df.columns),'Source',epoch,True)\n    df.insert(len(df.columns),'Observation Week',srcHist.loc[epoch]['Observation Week'],True)\n    dfs.append(df[['Source','Observation Week','Mass 1','Mass 2','Spin 1','Spin 2','Ecliptic Latitude','Ecliptic Longitude','Luminosity Distance','Barycenter Merge Time','Merger Phase','Polarization', 'cos inclination']])\n\nallEpochs = pd.concat(dfs)"
      ]
    },
    {
      "cell_type": "markdown",
      "metadata": {},
      "source": [
        "Create corner for multiple observing epochs\n\n"
      ]
    },
    {
      "cell_type": "code",
      "execution_count": null,
      "metadata": {
        "collapsed": false
      },
      "outputs": [],
      "source": [
        "# Choose weeks for plot from source history table\nwks = [4,8,10]\n\n# select subset of parameters to plot\nparameters = ['Mass 1','Mass 2','Luminosity Distance']\nparameter_labels = [r'$m_1\\ [{\\rm M}_\\odot]$',\n                    r'$m_2\\ [{\\rm M}_\\odot]$',\n                    r'$D_L\\ [{\\rm Gpc}]$',\n                   ]\nranges=[(10000,50000),\n        (1000,5000),\n        (16,40)]\n\nc = ChainConsumer()\nfor idx,wk in enumerate(wks):\n    epoch = allEpochs[allEpochs['Observation Week']==wk]\n    samples = epoch[parameters].values\n\n    c.add_chain(samples,parameters=parameter_labels,name='Week '+str(wk))\n\nc.configure(cmap=\"plasma\")\nfig = c.plotter.plot(figsize=1.5, log_scales=False, extents=ranges)"
      ]
    }
  ],
  "metadata": {
    "kernelspec": {
      "display_name": "Python 3",
      "language": "python",
      "name": "python3"
    },
    "language_info": {
      "codemirror_mode": {
        "name": "ipython",
        "version": 3
      },
      "file_extension": ".py",
      "mimetype": "text/x-python",
      "name": "python",
      "nbconvert_exporter": "python",
      "pygments_lexer": "ipython3",
      "version": "3.7.5"
    }
  },
  "nbformat": 4,
  "nbformat_minor": 0
}