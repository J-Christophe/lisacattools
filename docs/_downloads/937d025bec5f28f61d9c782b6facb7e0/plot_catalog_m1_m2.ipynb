{
  "cells": [
    {
      "cell_type": "code",
      "execution_count": null,
      "metadata": {
        "collapsed": false
      },
      "outputs": [],
      "source": [
        "%matplotlib inline"
      ]
    },
    {
      "cell_type": "markdown",
      "metadata": {},
      "source": [
        "\n# Catalog mass plot\n\nPlot component masses of all detections\n"
      ]
    },
    {
      "cell_type": "code",
      "execution_count": null,
      "metadata": {
        "collapsed": false
      },
      "outputs": [],
      "source": [
        "import glob \nimport numpy as np\nimport pandas as pd\nimport matplotlib.pyplot as plt\nimport lisacattools.lisacattools as lisacat\n\n# get list catalog files\ncatFiles = glob.glob('MBH_wk*C.h5')\n\n# append catalog files to master data frame\ndfs = list()\nfor catFile in catFiles:\n    df = pd.read_hdf(catFile, key = 'metadata')\n    df['location'] = catFile\n    dfs.append(df) \nmeta = pd.concat(dfs).sort_values(by='observation week')\n\n# load the final list of detections \ncatIdx = len(meta)-1\ncatFile = meta.iloc[catIdx]['location']\ncat = pd.read_hdf(catFile, key='detections')\n\n\n# plot the catalog in the m1-m2 plane\nfig, ax = plt.subplots(figsize = [8,6],dpi=100)\nsrcs = list(cat.index)\nfor idx, src in enumerate(srcs):\n    chain = lisacat.getChain(cat,src)\n    l1,m1,h1 = np.quantile(np.array(chain['Mass 1']),[0.05,0.5,0.95])\n    l2,m2,h2 = np.quantile(np.array(chain['Mass 2']),[0.05,0.5,0.95])\n    if idx < 10:\n        mkr = 'o'\n    else:\n        mkr = '^'\n        \n    ax.errorbar(m1,m2,xerr = np.vstack((m1-l1,h1-m1)),yerr = np.vstack((m2-l2,h2-m2)),label=src,markersize=6,capsize=2,marker=mkr,markerfacecolor='none')\nax.set_xscale('log', nonposx='clip')\nax.set_yscale('log', nonposy='clip')\nax.grid()\nax.set_xlabel('Mass 1 [MSun]')\nax.set_ylabel('Mass 2 [MSun]')\nax.legend(loc = 'lower right')\n\nplt.show()"
      ]
    }
  ],
  "metadata": {
    "kernelspec": {
      "display_name": "Python 3",
      "language": "python",
      "name": "python3"
    },
    "language_info": {
      "codemirror_mode": {
        "name": "ipython",
        "version": 3
      },
      "file_extension": ".py",
      "mimetype": "text/x-python",
      "name": "python",
      "nbconvert_exporter": "python",
      "pygments_lexer": "ipython3",
      "version": "3.7.5"
    }
  },
  "nbformat": 4,
  "nbformat_minor": 0
}