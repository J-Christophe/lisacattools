{
  "cells": [
    {
      "cell_type": "code",
      "execution_count": null,
      "metadata": {
        "collapsed": false
      },
      "outputs": [],
      "source": [
        "%matplotlib inline"
      ]
    },
    {
      "cell_type": "markdown",
      "metadata": {},
      "source": [
        "\n# Resampling posteriors\n\nConvert sampling parameters to derived parameters\n"
      ]
    },
    {
      "cell_type": "markdown",
      "metadata": {},
      "source": [
        "This example shows how to change parameterization of the posterior samples. \nThe GBMCMC sampler uses frequency, frequency derivative, and GW amplitude in its waveform model. \nFor systems whose dynamics are driven by GR, those parameters can be converted to chirp mass and luminosity distance. \nHere is a demonstration of how to do that by producing a chirpmass-distance corner plot.\n\n"
      ]
    },
    {
      "cell_type": "code",
      "execution_count": null,
      "metadata": {
        "collapsed": false
      },
      "outputs": [],
      "source": [
        "# Import modules\nimport os\nimport pandas as pd\nfrom chainconsumer import ChainConsumer\nimport lisacattools.lisacattools as lisacat\n\n# Start by loading the main catalog file processed from GBMCMC outputs\ncatFile = 'cat15728640_v2/cat15728640_v2.h5'\ncatPath = os.path.split(catFile)[0]\ncat = pd.read_hdf(catFile, key='detections')\n\n# Sort table by SNR and select highest SNR source\ncat.sort_values(by='SNR',ascending = False, inplace=True)\nsourceId = cat.index[0]\nsamples = lisacat.getChain(cat,sourceId,catPath)\n\n# Reject chain samples with negative fdot (enforce GR-driven prior)\nsamples_GR = samples[(samples['Frequency Derivative']> 0)]\n\n# Add distance and chirpmass to samples\nlisacat.get_DL(samples_GR)\nlisacat.get_Mchirp(samples_GR)\n\n# Make corner plot\nparameters = ['Chirp Mass','Luminosity Distance']\nparameter_symbols = [r'$\\mathcal{M}\\ [{\\rm M}_\\odot]$',\n                   r'$D_L\\ [{\\rm kpc}]$']\n\ndf = samples_GR[parameters].values\n\nc = ChainConsumer().add_chain(df,parameters=parameter_symbols,cloud=True)\nc.configure(flip=False)\nfig=c.plotter.plot(figsize=1.5)"
      ]
    }
  ],
  "metadata": {
    "kernelspec": {
      "display_name": "Python 3",
      "language": "python",
      "name": "python3"
    },
    "language_info": {
      "codemirror_mode": {
        "name": "ipython",
        "version": 3
      },
      "file_extension": ".py",
      "mimetype": "text/x-python",
      "name": "python",
      "nbconvert_exporter": "python",
      "pygments_lexer": "ipython3",
      "version": "3.7.5"
    }
  },
  "nbformat": 4,
  "nbformat_minor": 0
}