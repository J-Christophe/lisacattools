{
  "cells": [
    {
      "cell_type": "code",
      "execution_count": null,
      "metadata": {
        "collapsed": false
      },
      "outputs": [],
      "source": [
        "%matplotlib inline"
      ]
    },
    {
      "cell_type": "markdown",
      "metadata": {},
      "source": [
        "\n# 3D map of the galaxy\n\nCreate inferred map of the galaxy from chirping binaries\n"
      ]
    },
    {
      "cell_type": "markdown",
      "metadata": {},
      "source": [
        "This example demonstrates using chirping binaries to map the galaxy. \nSamples from the high SNR chirping binaries are reparameterized into galactic cartesian coordinates and plotted.\n\n"
      ]
    },
    {
      "cell_type": "code",
      "execution_count": null,
      "metadata": {
        "collapsed": false
      },
      "outputs": [],
      "source": [
        "# Import modules\nimport os\nimport pandas as pd\nimport numpy as np\nimport matplotlib.pyplot as plt\nfrom matplotlib.patches import Ellipse\nimport matplotlib.colors as colors\nimport matplotlib.cm as cm\nimport lisacattools.lisacattools as lisacat\n\n# Start by loading the main catalog file processed from GBMCMC outputs\ncatFile = 'cat15728640_v2/cat15728640_v2.h5'\ncatPath = os.path.split(catFile)[0]\ncat = pd.read_hdf(catFile, key='detections')\n\n# Get dataframe of only high SNR chirping events\ncat_chirping = cat[(cat['Frequency Derivative']>0) & (cat['SNR']>100)]\n\n# set up the figure\nfig,axs = plt.subplots(1,2,figsize=(12, 6), dpi = 100)\n\naxs[0].grid()\naxs[1].grid()\n\naxs[0].set(xlim=(-10,10), ylim=(-10,10), xlabel=r'$x_{\\rm GC}\\ [{\\rm kpc}]$', ylabel=r'$y_{\\rm GC}\\ [{\\rm kpc}]$')\naxs[1].set(xlim=(-10,10), ylim=(-10,10), xlabel=r'$x_{\\rm GC}\\ [{\\rm kpc}]$', ylabel=r'$z_{\\rm GC}\\ [{\\rm kpc}]$')\n\n\n# color ellipses by log SNR\ncNorm = colors.LogNorm(vmin=cat_chirping['SNR'].min(), vmax=cat_chirping['SNR'].max())\nscalarMap = cm.ScalarMappable(norm=cNorm, cmap=plt.cm.get_cmap('plasma_r'))\ncbar = fig.colorbar(scalarMap)\ncbar.set_label('SNR')\n\n# plot 1-sigma ellipses of 3D localization for each source\nsources = list(cat_chirping.index)\nfor source in sources:\n    \n    # get chain samples\n    samples = lisacat.getChain(cat_chirping,source,catPath)\n    \n    # convert from ecliptic to galactic coordinates\n    lisacat.getGalcoord(samples)\n\n    # enforce GR prior\n    samples = samples[(samples['Frequency Derivative']>0)]\n    \n    # add distance parameter\n    lisacat.get_DL(samples)\n    \n    # add galactic cartesian coordinates\n    samples['X'] = samples['Luminosity Distance']*np.cos(samples['Galactic Latitude']*np.pi/180.)*np.cos(samples['Galactic Longitude']*np.pi/180.)\n    samples['Y'] = samples['Luminosity Distance']*np.cos(samples['Galactic Latitude']*np.pi/180.)*np.sin(samples['Galactic Longitude']*np.pi/180.)\n    samples['Z'] = samples['Luminosity Distance']*np.sin(samples['Galactic Latitude']*np.pi/180.)\n\n    # plot galactic X-Y plane\n    lisacat.confidence_ellipse(samples[['X','Y']],\n                       axs[0],\n                       n_std = 1.0,\n                       edgecolor=scalarMap.to_rgba(np.array(cat_chirping.loc[source].SNR)),\n                       linewidth = 1.0)\n\n    # plot galactic X-Z plane\n    lisacat.confidence_ellipse(samples[['X','Z']],\n                       axs[1],\n                       n_std = 1.0,\n                       edgecolor=scalarMap.to_rgba(np.array(cat_chirping.loc[source].SNR)),\n                       linewidth = 1.0)\n\n\n\nplt.show()"
      ]
    }
  ],
  "metadata": {
    "kernelspec": {
      "display_name": "Python 3",
      "language": "python",
      "name": "python3"
    },
    "language_info": {
      "codemirror_mode": {
        "name": "ipython",
        "version": 3
      },
      "file_extension": ".py",
      "mimetype": "text/x-python",
      "name": "python",
      "nbconvert_exporter": "python",
      "pygments_lexer": "ipython3",
      "version": "3.7.5"
    }
  },
  "nbformat": 4,
  "nbformat_minor": 0
}