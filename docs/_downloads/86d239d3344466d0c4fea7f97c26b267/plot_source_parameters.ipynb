{
  "cells": [
    {
      "cell_type": "code",
      "execution_count": null,
      "metadata": {
        "collapsed": false
      },
      "outputs": [],
      "source": [
        "%matplotlib inline"
      ]
    },
    {
      "cell_type": "markdown",
      "metadata": {},
      "source": [
        "\n# Corner plots\n\nProduce corner plots for a single sources' parameters.\n"
      ]
    },
    {
      "cell_type": "markdown",
      "metadata": {},
      "source": [
        "Load catalog and select individual source\n\n"
      ]
    },
    {
      "cell_type": "code",
      "execution_count": null,
      "metadata": {
        "collapsed": false
      },
      "outputs": [],
      "source": [
        "import os\nimport numpy as np\nimport pandas as pd\nimport lisacattools.lisacattools as lisacat\n\n#load catalog\ncatFile = 'cat15728640_v2/cat15728640_v2.h5'\ncat = pd.read_hdf(catFile, key='detections')\n\n#parse catFile to get path to chain files\ncatPath = os.path.split(catFile)[0]\n\n#get index of source with maximum SNR\nsourceId = cat.index.values[np.argmin(np.abs(np.array(cat['SNR'])-cat['SNR'].max()))]\ncat.loc[[sourceId],['SNR','Frequency']]"
      ]
    },
    {
      "cell_type": "markdown",
      "metadata": {},
      "source": [
        "Corner plot of select source parameters using `corner` module\n\n"
      ]
    },
    {
      "cell_type": "code",
      "execution_count": null,
      "metadata": {
        "collapsed": false
      },
      "outputs": [],
      "source": [
        "import corner\n\n#read in the chain samples for this source\nsamples = lisacat.getChain(cat,sourceId,catPath)\n\n#list of subset of paramters that are particularly interesting\nparameters = ['Frequency','Frequency Derivative','Amplitude','Inclination']\n\n#corner plot of source. \nfig=corner.corner(samples[parameters])"
      ]
    },
    {
      "cell_type": "markdown",
      "metadata": {},
      "source": [
        "Can also be done with ChainConsumer for prettier plots\n\n"
      ]
    },
    {
      "cell_type": "code",
      "execution_count": null,
      "metadata": {
        "collapsed": false
      },
      "outputs": [],
      "source": [
        "from chainconsumer import ChainConsumer\n\n#get dataframe into numpy array (this shouldn't be necessary)\ndf = samples[parameters].values\n\n#rescale columns\ndf[:,0] = df[:,0]*1000 #f in mHz\ndf[:,1] = df[:,1]/1e-15 #df/dt\ndf[:,2] = df[:,2]/1e-22 #A\ndf[:,3] = df[:,3]*180./np.pi #inc in deg\nparameter_symbols = [r'$f\\ {\\rm [mHz]}$',\n                     r'$\\dot{f}\\ [s^{-2}]\\times 10^{-16}$',\n                     r'$\\mathcal{A} \\times 10^{-23}$',\n                     r'$\\iota\\ {\\rm [deg]}$']\n\n#add source chain to ChainConsumer object\nc = ChainConsumer().add_chain(df,parameters=parameter_symbols,cloud=True)\n\n#plot!\nfig = c.plotter.plot(figsize=1.5)"
      ]
    }
  ],
  "metadata": {
    "kernelspec": {
      "display_name": "Python 3",
      "language": "python",
      "name": "python3"
    },
    "language_info": {
      "codemirror_mode": {
        "name": "ipython",
        "version": 3
      },
      "file_extension": ".py",
      "mimetype": "text/x-python",
      "name": "python",
      "nbconvert_exporter": "python",
      "pygments_lexer": "ipython3",
      "version": "3.7.5"
    }
  },
  "nbformat": 4,
  "nbformat_minor": 0
}