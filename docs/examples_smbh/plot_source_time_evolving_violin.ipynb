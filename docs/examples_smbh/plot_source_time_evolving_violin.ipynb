{
  "cells": [
    {
      "cell_type": "code",
      "execution_count": null,
      "metadata": {
        "collapsed": false
      },
      "outputs": [],
      "source": [
        "%matplotlib inline"
      ]
    },
    {
      "cell_type": "markdown",
      "metadata": {},
      "source": [
        "\n# Time-evolving violin plot\n\nViolin plot of select parameters for a single source showing how \nparameter estimation changes with observing time over all observing epochs\n"
      ]
    },
    {
      "cell_type": "code",
      "execution_count": null,
      "metadata": {
        "collapsed": false
      },
      "outputs": [],
      "source": [
        "import glob\nimport numpy as np\nimport pandas as pd\nimport seaborn as sns\nimport matplotlib.pyplot as plt\nimport lisacattools.lisacattools as lisacat\n\n# Find the list of catalogs\ncatPath = 'MBH_catalog'\ncatFiles = glob.glob(catPath+'/MBH_wk*C.h5')\n\n# Read individual DataFrames' metadata by specifying the key parameter\ndfs = list()\nfor catFile in catFiles:\n    df = pd.read_hdf(catFile, key = 'metadata')\n    df['location'] = catFile\n    dfs.append(df) \nmeta = pd.concat(dfs)\n\n# sort metadata by observation week, putting most recent catalog last in the list\nmeta = meta.sort_values(by='observation week')\n\n# load and display the detections, sorted by primary mass \ncatIdx = len(meta)-1\ncatName = meta.index[catIdx]\ncatFile = meta.iloc[catIdx]['location']\ncat = pd.read_hdf(catFile, key='detections')\ncat = cat.sort_values(by='Mass 1')\ncat[['Parent','Log Likelihood','Mass 1', 'Mass 2', 'Luminosity Distance']]"
      ]
    },
    {
      "cell_type": "markdown",
      "metadata": {},
      "source": [
        "Choose a source from the list of detections and get its history through the different catalogs\n\n"
      ]
    },
    {
      "cell_type": "code",
      "execution_count": null,
      "metadata": {
        "collapsed": false
      },
      "outputs": [],
      "source": [
        "# Pick a source, any source\nsourceIdx = 'MBH005546845'\n\n# Get source history and display table with parameters and observing weeks containing source\nsrcHist = lisacat.getLineage(meta,catName,sourceIdx)\nsrcHist.drop_duplicates(subset='Log Likelihood',keep='last',inplace=True)\nsrcHist.sort_values(by='Observation Week',ascending=True,inplace=True)\nsrcHist[['Observation Week','Parent','Log Likelihood','Mass 1', 'Mass 2', 'Luminosity Distance']]"
      ]
    },
    {
      "cell_type": "markdown",
      "metadata": {},
      "source": [
        "Load chains for different observing epochs of selected source\n\n"
      ]
    },
    {
      "cell_type": "code",
      "execution_count": null,
      "metadata": {
        "collapsed": false
      },
      "outputs": [],
      "source": [
        "epochs = list(srcHist.index)\ndfs = list()\nfor epoch in epochs:\n    df = lisacat.getChain(srcHist,epoch,catPath)\n    df.insert(len(df.columns),'Source',epoch,True)\n    df.insert(len(df.columns),'Observation Week',srcHist.loc[epoch]['Observation Week'],True)\n    dfs.append(df[['Source','Observation Week','Mass 1','Mass 2','Spin 1','Spin 2','Ecliptic Latitude','Ecliptic Longitude','Luminosity Distance','Barycenter Merge Time','Merger Phase','Polarization', 'cos inclination']])\n\nallEpochs = pd.concat(dfs)\n\n# For plotting purposes, we add a new parameter that is merger time error (in hours), expressed relative to median merger time after observation is complete\nlatestWeek = np.max(allEpochs['Observation Week'])\nallEpochs['Merge Time Error'] = (allEpochs['Barycenter Merge Time']-np.median(allEpochs[allEpochs['Observation Week']==latestWeek]['Barycenter Merge Time']))/3600"
      ]
    },
    {
      "cell_type": "markdown",
      "metadata": {},
      "source": [
        "Create the violin plot\n\n"
      ]
    },
    {
      "cell_type": "code",
      "execution_count": null,
      "metadata": {
        "collapsed": false
      },
      "outputs": [],
      "source": [
        "# select the parameters to plot and scaling (linear or log) for each\nparams = ['Mass 1','Mass 2','Spin 1','Spin 2','Luminosity Distance','Merge Time Error']\nscales = ['log','log','linear','linear','linear','linear']\n\n# arrange the plots into a grid of subplots\nncols = 2\nnrows = np.int(np.ceil(len(params)/ncols))\nfig = plt.figure(figsize=[10,10],dpi=100)\n\n# plot the violin plot for each parameter\nfor idx,param in enumerate(params):\n    ax = fig.add_subplot(nrows,ncols,idx+1)\n    sns.violinplot(ax = ax, x='Observation Week', y=param, data=allEpochs,scale='width',width=0.8,inner='quartile')\n    ax.set_yscale(scales[idx])\n    ax.grid(axis='y')\n    \n# add an overall title    \nfig.suptitle('Parameter Evolution for %s' % sourceIdx)"
      ]
    }
  ],
  "metadata": {
    "kernelspec": {
      "display_name": "Python 3",
      "language": "python",
      "name": "python3"
    },
    "language_info": {
      "codemirror_mode": {
        "name": "ipython",
        "version": 3
      },
      "file_extension": ".py",
      "mimetype": "text/x-python",
      "name": "python",
      "nbconvert_exporter": "python",
      "pygments_lexer": "ipython3",
      "version": "3.7.5"
    }
  },
  "nbformat": 4,
  "nbformat_minor": 0
}