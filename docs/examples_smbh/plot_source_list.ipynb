{
  "cells": [
    {
      "cell_type": "code",
      "execution_count": null,
      "metadata": {
        "collapsed": false
      },
      "outputs": [],
      "source": [
        "%matplotlib inline"
      ]
    },
    {
      "cell_type": "markdown",
      "metadata": {},
      "source": [
        "\n# Source list\n\nDisplay a table of catalog files, detection list, and timeline of mergers..\n"
      ]
    },
    {
      "cell_type": "markdown",
      "metadata": {},
      "source": [
        "Load catalog and display list\n\n"
      ]
    },
    {
      "cell_type": "code",
      "execution_count": null,
      "metadata": {
        "collapsed": false
      },
      "outputs": [],
      "source": [
        "import glob \nimport numpy as np\nimport pandas as pd\nimport matplotlib.pyplot as plt\n\n# get list catalog files\ncatPath = 'MBH_catalog'\ncatFiles = glob.glob(catPath+'/MBH_wk*C.h5')\n\n# append catalog files to master data frame\ndfs = list()\nfor catFile in catFiles:\n    df = pd.read_hdf(catFile, key = 'metadata')\n    df['location'] = catFile\n    dfs.append(df) \nmeta  = pd.concat(dfs)\nmeta = meta.sort_values(by='observation week')"
      ]
    },
    {
      "cell_type": "markdown",
      "metadata": {},
      "source": [
        "Load detections from final catalog. \nBecause catalogs are cummulative, this will include all sources\n\n"
      ]
    },
    {
      "cell_type": "code",
      "execution_count": null,
      "metadata": {
        "collapsed": false
      },
      "outputs": [],
      "source": [
        "# select last catalog in list\ncatIdx = len(meta)-1\ncatFile = meta.iloc[catIdx]['location']\ncat = pd.read_hdf(catFile, key='detections')\ncat[['Log Likelihood','Mass 1','Mass 2','Luminosity Distance']]"
      ]
    },
    {
      "cell_type": "markdown",
      "metadata": {},
      "source": [
        "Cumulative plot of observed mergers\n\n"
      ]
    },
    {
      "cell_type": "code",
      "execution_count": null,
      "metadata": {
        "collapsed": false
      },
      "outputs": [],
      "source": [
        "# sort events by merger time\ncat.sort_values(by='Barycenter Merge Time',ascending=True, inplace=True)\nmergeTimes = cat['Barycenter Merge Time']\nmergeT = np.insert(np.array(mergeTimes)/86400,0,0)\nmergeCount = np.arange(0,len(mergeTimes)+1)\n\n# setup plot\nfig, ax = plt.subplots(figsize = [8,6],dpi=100)\n\n# configure axes\nax.step(mergeT,mergeCount,where='post')\nax.set_xlabel('Observation Time [days]')\nax.set_ylabel('Merger Count')\nax.grid()\n\n# loop over events by merger time and make annotated figure\nfor m in range(0,len(mergeTimes)):\n    plt.annotate(mergeTimes.index[m], # this is the text\n                 (mergeTimes[m]/86400,mergeCount[m]), # this is the point to label\n                 textcoords=\"offset points\", # how to position the text\n                 xytext=(2,5), # distance from text to points (x,y)\n                ) \nplt.show()"
      ]
    }
  ],
  "metadata": {
    "kernelspec": {
      "display_name": "Python 3",
      "language": "python",
      "name": "python3"
    },
    "language_info": {
      "codemirror_mode": {
        "name": "ipython",
        "version": 3
      },
      "file_extension": ".py",
      "mimetype": "text/x-python",
      "name": "python",
      "nbconvert_exporter": "python",
      "pygments_lexer": "ipython3",
      "version": "3.7.5"
    }
  },
  "nbformat": 4,
  "nbformat_minor": 0
}