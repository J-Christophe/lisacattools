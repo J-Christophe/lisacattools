{
  "cells": [
    {
      "cell_type": "code",
      "execution_count": null,
      "metadata": {
        "collapsed": false
      },
      "outputs": [],
      "source": [
        "%matplotlib inline"
      ]
    },
    {
      "cell_type": "markdown",
      "metadata": {},
      "source": [
        "\n# Scatter plots\n\nDisplay a scatter plot of detections' point estimates.\n"
      ]
    },
    {
      "cell_type": "code",
      "execution_count": null,
      "metadata": {
        "collapsed": false
      },
      "outputs": [],
      "source": [
        "import numpy as np\nimport pandas as pd\nimport matplotlib.cm as cm\nimport matplotlib.pyplot as plt\nimport matplotlib.colors as colors\nimport lisacattools.lisacattools as lisacat\n\n#load catalog\ncatFile = 'cat15728640_v2/cat15728640_v2.h5'\ncat = pd.read_hdf(catFile, key='detections')\nmeta = pd.read_hdf(catFile, key='metadata')\n\n#set up matplotlib figure\nfig = plt.figure(figsize=(12, 6), dpi = 100)\nax = plt.axes()\n\nplt.yscale('log')\nplt.xscale('log')\nplt.xlabel('Frequency [Hz]',fontsize=14)\nplt.ylabel('Strain Amplitude',fontsize=14)\nplt.title('Point estimates for %i sources found in catalog %s' % (len(cat), meta.index[0]),fontsize=18)\n\n#color points in scatter plot by SNR\ncNorm = colors.LogNorm(vmin=cat['SNR'].min(), vmax=cat['SNR'].max()) #re-wrapping normalization\nscalarMap = cm.ScalarMappable(norm=cNorm, cmap=plt.cm.get_cmap('cool'))\ncbar = fig.colorbar(scalarMap)\ncbar.set_label('SNR',fontsize=14)\n\n\n#the scatter plot\ncat.plot(\n    kind='scatter', \n    x='Frequency', \n    y='Amplitude',  \n    marker = '.',\n    c = scalarMap.to_rgba(np.array(cat['SNR'])),\n    ax = ax);\n\n#add sensitivity curve\nf = np.logspace(-4,0,512)\nax.plot(f,lisacat.getSciRD(f,np.float(meta.iloc[0]['Observation Time'])), color='k')\nax.legend(['Instrument Sensitivity','resolved GBs'],fontsize=14)\nax.grid()\n\nplt.show()"
      ]
    }
  ],
  "metadata": {
    "kernelspec": {
      "display_name": "Python 3",
      "language": "python",
      "name": "python3"
    },
    "language_info": {
      "codemirror_mode": {
        "name": "ipython",
        "version": 3
      },
      "file_extension": ".py",
      "mimetype": "text/x-python",
      "name": "python",
      "nbconvert_exporter": "python",
      "pygments_lexer": "ipython3",
      "version": "3.7.5"
    }
  },
  "nbformat": 4,
  "nbformat_minor": 0
}