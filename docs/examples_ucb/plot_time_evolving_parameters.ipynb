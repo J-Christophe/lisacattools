{
  "cells": [
    {
      "cell_type": "code",
      "execution_count": null,
      "metadata": {
        "collapsed": false
      },
      "outputs": [],
      "source": [
        "%matplotlib inline"
      ]
    },
    {
      "cell_type": "markdown",
      "metadata": {},
      "source": [
        "\n# Connecting catalogs\n\nLocate a source in an updated catalog and compare parameters.\n"
      ]
    },
    {
      "cell_type": "markdown",
      "metadata": {},
      "source": [
        "This example shows how to find a particular source after the catalog has been updated \nbased on the `parent` meta data, and produces a corner plot showing how the parameter\nestimation evolves with time.\n\n"
      ]
    },
    {
      "cell_type": "code",
      "execution_count": null,
      "metadata": {
        "collapsed": false
      },
      "outputs": [],
      "source": [
        "import os\nimport pandas as pd\nimport numpy as np\nfrom chainconsumer import ChainConsumer\nimport lisacattools.lisacattools as lisacat"
      ]
    },
    {
      "cell_type": "markdown",
      "metadata": {},
      "source": [
        "Start by loading the 03 month catalog and selecting a source to follow\n\n"
      ]
    },
    {
      "cell_type": "code",
      "execution_count": null,
      "metadata": {
        "collapsed": false
      },
      "outputs": [],
      "source": [
        "old_file = 'cat7864320_v3/cat7864320_v3.h5'\nold_path = os.path.split(old_file)[0]\n\n# Read metadata from each catalog\nold_meta = pd.read_hdf(old_file, key = 'metadata')\nold_cat = pd.read_hdf(old_file, key='detections')\n\n# pick a source, any source\nold_source = 'LDC0027827268'\nold_samples = lisacat.getChain(old_cat,old_source,old_path)\n\nold_cat.loc[[old_source],['SNR','Frequency','Amplitude']]"
      ]
    },
    {
      "cell_type": "markdown",
      "metadata": {},
      "source": [
        "Load the 06 month catalog and find the current name for `old_source`\n\n"
      ]
    },
    {
      "cell_type": "code",
      "execution_count": null,
      "metadata": {
        "collapsed": false
      },
      "outputs": [],
      "source": [
        "new_file = 'cat15728640_v2/cat15728640_v2.h5'\nnew_path = os.path.split(new_file)[0]\n\n# Read metadata from each catalog\nnew_meta = pd.read_hdf(new_file, key = 'metadata')\nnew_cat = pd.read_hdf(new_file, key = 'detections')\n\n# select source that lists sourceIdx as parent\nnew_cat = new_cat[(new_cat['parent']==old_source)]\nnew_source = new_cat.index.values[0]\nnew_samples = lisacat.getChain(new_cat,new_source, new_path)\n\nnew_cat.loc[[new_source],['parent','SNR','Frequency','Amplitude']]"
      ]
    },
    {
      "cell_type": "markdown",
      "metadata": {},
      "source": [
        "Plot the posteriors for the 03 and 06 months inferences for the source\n\n"
      ]
    },
    {
      "cell_type": "code",
      "execution_count": null,
      "metadata": {
        "collapsed": false
      },
      "outputs": [],
      "source": [
        "c = ChainConsumer()\n\n# Select which parameters to plot & format the axes labels\nparameters = ['Frequency', \n              'Amplitude', \n              'Ecliptic Longitude', \n              'Ecliptic Latitude', \n              'Inclination'\n             ]\nparameter_labels = [\n    r'$f_0\\ [{\\rm Hz}]$',\n    r'$\\mathcal{A}$',\n    r'$\\phi\\ [{\\rm rad}]$',\n    r'$\\theta\\ [{\\rm rad}]$',\n    r'$\\iota\\ [{\\rm rad}]$',\n    ]\n\n\n\n# add chains \nc.add_chain(old_samples[parameters].values,parameters=parameter_labels,cloud=True,name=old_source)\nc.add_chain(new_samples[parameters].values,parameters=parameter_labels,cloud=True,name=new_source)\n\n#plot!\nc.configure(sigmas=[1, 2, 3],\n            linestyles=[\"-\", \"--\"],\n            legend_color_text=False,\n            legend_kwargs={\"fontsize\": 18})\nfig = c.plotter.plot(figsize=1.5)"
      ]
    }
  ],
  "metadata": {
    "kernelspec": {
      "display_name": "Python 3",
      "language": "python",
      "name": "python3"
    },
    "language_info": {
      "codemirror_mode": {
        "name": "ipython",
        "version": 3
      },
      "file_extension": ".py",
      "mimetype": "text/x-python",
      "name": "python",
      "nbconvert_exporter": "python",
      "pygments_lexer": "ipython3",
      "version": "3.7.5"
    }
  },
  "nbformat": 4,
  "nbformat_minor": 0
}